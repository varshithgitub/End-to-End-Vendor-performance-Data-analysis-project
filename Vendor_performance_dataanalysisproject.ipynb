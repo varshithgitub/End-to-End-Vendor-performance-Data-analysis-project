{
 "cells": [
  {
   "cell_type": "code",
   "execution_count": 21,
   "id": "56d67bc5-7d03-488a-8101-6add21d13c18",
   "metadata": {},
   "outputs": [],
   "source": [
    "import pandas as pd\n",
    "import os \n",
    "import time\n",
    "import matplotlib.pyplot as plt\n",
    "from sqlalchemy import create_engine\n",
    "import logging\n",
    "\n",
    "\n",
    "logging.basicConfig(\n",
    "    filename =\"logs/ingestion_db.log\",\n",
    "    level = logging.DEBUG,\n",
    "    format=\"%(asctime)s - %(levelname)s - %(message)s\",\n",
    "    filemode=\"a\"\n",
    ")\n",
    "\n",
    "engine = create_engine('sqlite:///inventory.db')\n",
    "\n",
    "def ingest_db(df, table_name, engine):\n",
    "    df.to_sql(table_name, con = engine, if_exists = 'replace', index = False)\n",
    "\n",
    "    \n",
    "def load_rawdata(): \n",
    "    #this fuction loads csv as dataframe and ingest into db \n",
    "    start = time.time()\n",
    "    for file in os.listdir('data'):\n",
    "        if '.csv' in file:\n",
    "            df = pd.read_csv('data/'+file)\n",
    "            logging.info(f'Ingestion in progress for {file} in DB')\n",
    "            ingest_db(df,file[:-4], engine)\n",
    "    end = time.time()\n",
    "    t_t = (end - start)/60\n",
    "    logging.info(f'Ingestion success !!! Total time take is {t_t} minutes')\n",
    "\n",
    "\n",
    "\n",
    "if __name__== '__main__':\n",
    "    load_rawdata()"
   ]
  }
 ],
 "metadata": {
  "kernelspec": {
   "display_name": "Python 3 (ipykernel)",
   "language": "python",
   "name": "python3"
  },
  "language_info": {
   "codemirror_mode": {
    "name": "ipython",
    "version": 3
   },
   "file_extension": ".py",
   "mimetype": "text/x-python",
   "name": "python",
   "nbconvert_exporter": "python",
   "pygments_lexer": "ipython3",
   "version": "3.13.2"
  }
 },
 "nbformat": 4,
 "nbformat_minor": 5
}
